{
 "cells": [
  {
   "cell_type": "code",
   "execution_count": 1,
   "id": "6980dae8",
   "metadata": {
    "_cell_guid": "b1076dfc-b9ad-4769-8c92-a6c4dae69d19",
    "_uuid": "8f2839f25d086af736a60e9eeb907d3b93b6e0e5",
    "execution": {
     "iopub.execute_input": "2022-04-26T16:58:06.327652Z",
     "iopub.status.busy": "2022-04-26T16:58:06.327137Z",
     "iopub.status.idle": "2022-04-26T16:58:17.708954Z",
     "shell.execute_reply": "2022-04-26T16:58:17.707928Z"
    },
    "papermill": {
     "duration": 11.395821,
     "end_time": "2022-04-26T16:58:17.711474",
     "exception": false,
     "start_time": "2022-04-26T16:58:06.315653",
     "status": "completed"
    },
    "tags": []
   },
   "outputs": [
    {
     "name": "stdout",
     "output_type": "stream",
     "text": [
      "/kaggle/input/nlp-getting-started/sample_submission.csv\n",
      "/kaggle/input/nlp-getting-started/train.csv\n",
      "/kaggle/input/nlp-getting-started/test.csv\n"
     ]
    }
   ],
   "source": [
    "import numpy as np\n",
    "import pandas as pd\n",
    "import os\n",
    "import nltk\n",
    "from nltk.corpus import stopwords\n",
    "from nltk.tokenize import word_tokenize\n",
    "from nltk.stem import WordNetLemmatizer, PorterStemmer\n",
    "import spacy\n",
    "from sklearn.linear_model import LogisticRegression\n",
    "from sklearn.model_selection import train_test_split\n",
    "from sklearn.metrics import f1_score\n",
    "from xgboost import XGBClassifier\n",
    "for dirname, _, filenames in os.walk('/kaggle/input'):\n",
    "    for filename in filenames:\n",
    "        print(os.path.join(dirname, filename))"
   ]
  },
  {
   "cell_type": "code",
   "execution_count": 2,
   "id": "9358944a",
   "metadata": {
    "execution": {
     "iopub.execute_input": "2022-04-26T16:58:17.733291Z",
     "iopub.status.busy": "2022-04-26T16:58:17.732937Z",
     "iopub.status.idle": "2022-04-26T16:58:17.801827Z",
     "shell.execute_reply": "2022-04-26T16:58:17.800807Z"
    },
    "papermill": {
     "duration": 0.082742,
     "end_time": "2022-04-26T16:58:17.804194",
     "exception": false,
     "start_time": "2022-04-26T16:58:17.721452",
     "status": "completed"
    },
    "tags": []
   },
   "outputs": [],
   "source": [
    "tweet_df = pd.read_csv('../input/nlp-getting-started/train.csv')"
   ]
  },
  {
   "cell_type": "code",
   "execution_count": 3,
   "id": "3af063f4",
   "metadata": {
    "execution": {
     "iopub.execute_input": "2022-04-26T16:58:17.824753Z",
     "iopub.status.busy": "2022-04-26T16:58:17.824450Z",
     "iopub.status.idle": "2022-04-26T16:58:17.844910Z",
     "shell.execute_reply": "2022-04-26T16:58:17.844023Z"
    },
    "papermill": {
     "duration": 0.033183,
     "end_time": "2022-04-26T16:58:17.846802",
     "exception": false,
     "start_time": "2022-04-26T16:58:17.813619",
     "status": "completed"
    },
    "tags": []
   },
   "outputs": [
    {
     "data": {
      "text/html": [
       "<div>\n",
       "<style scoped>\n",
       "    .dataframe tbody tr th:only-of-type {\n",
       "        vertical-align: middle;\n",
       "    }\n",
       "\n",
       "    .dataframe tbody tr th {\n",
       "        vertical-align: top;\n",
       "    }\n",
       "\n",
       "    .dataframe thead th {\n",
       "        text-align: right;\n",
       "    }\n",
       "</style>\n",
       "<table border=\"1\" class=\"dataframe\">\n",
       "  <thead>\n",
       "    <tr style=\"text-align: right;\">\n",
       "      <th></th>\n",
       "      <th>id</th>\n",
       "      <th>keyword</th>\n",
       "      <th>location</th>\n",
       "      <th>text</th>\n",
       "      <th>target</th>\n",
       "    </tr>\n",
       "  </thead>\n",
       "  <tbody>\n",
       "    <tr>\n",
       "      <th>0</th>\n",
       "      <td>1</td>\n",
       "      <td>NaN</td>\n",
       "      <td>NaN</td>\n",
       "      <td>Our Deeds are the Reason of this #earthquake M...</td>\n",
       "      <td>1</td>\n",
       "    </tr>\n",
       "    <tr>\n",
       "      <th>1</th>\n",
       "      <td>4</td>\n",
       "      <td>NaN</td>\n",
       "      <td>NaN</td>\n",
       "      <td>Forest fire near La Ronge Sask. Canada</td>\n",
       "      <td>1</td>\n",
       "    </tr>\n",
       "    <tr>\n",
       "      <th>2</th>\n",
       "      <td>5</td>\n",
       "      <td>NaN</td>\n",
       "      <td>NaN</td>\n",
       "      <td>All residents asked to 'shelter in place' are ...</td>\n",
       "      <td>1</td>\n",
       "    </tr>\n",
       "    <tr>\n",
       "      <th>3</th>\n",
       "      <td>6</td>\n",
       "      <td>NaN</td>\n",
       "      <td>NaN</td>\n",
       "      <td>13,000 people receive #wildfires evacuation or...</td>\n",
       "      <td>1</td>\n",
       "    </tr>\n",
       "    <tr>\n",
       "      <th>4</th>\n",
       "      <td>7</td>\n",
       "      <td>NaN</td>\n",
       "      <td>NaN</td>\n",
       "      <td>Just got sent this photo from Ruby #Alaska as ...</td>\n",
       "      <td>1</td>\n",
       "    </tr>\n",
       "  </tbody>\n",
       "</table>\n",
       "</div>"
      ],
      "text/plain": [
       "   id keyword location                                               text  \\\n",
       "0   1     NaN      NaN  Our Deeds are the Reason of this #earthquake M...   \n",
       "1   4     NaN      NaN             Forest fire near La Ronge Sask. Canada   \n",
       "2   5     NaN      NaN  All residents asked to 'shelter in place' are ...   \n",
       "3   6     NaN      NaN  13,000 people receive #wildfires evacuation or...   \n",
       "4   7     NaN      NaN  Just got sent this photo from Ruby #Alaska as ...   \n",
       "\n",
       "   target  \n",
       "0       1  \n",
       "1       1  \n",
       "2       1  \n",
       "3       1  \n",
       "4       1  "
      ]
     },
     "execution_count": 3,
     "metadata": {},
     "output_type": "execute_result"
    }
   ],
   "source": [
    "tweet_df.head()"
   ]
  },
  {
   "cell_type": "code",
   "execution_count": 4,
   "id": "9231658d",
   "metadata": {
    "execution": {
     "iopub.execute_input": "2022-04-26T16:58:17.868137Z",
     "iopub.status.busy": "2022-04-26T16:58:17.867560Z",
     "iopub.status.idle": "2022-04-26T16:58:17.885206Z",
     "shell.execute_reply": "2022-04-26T16:58:17.884515Z"
    },
    "papermill": {
     "duration": 0.030937,
     "end_time": "2022-04-26T16:58:17.887489",
     "exception": false,
     "start_time": "2022-04-26T16:58:17.856552",
     "status": "completed"
    },
    "tags": []
   },
   "outputs": [],
   "source": [
    "X, y = tweet_df.drop('target', axis=1), tweet_df.target\n",
    "X_train, X_test, y_train, y_test = train_test_split(X, y, random_state=42)"
   ]
  },
  {
   "cell_type": "code",
   "execution_count": 5,
   "id": "1de09222",
   "metadata": {
    "execution": {
     "iopub.execute_input": "2022-04-26T16:58:17.908725Z",
     "iopub.status.busy": "2022-04-26T16:58:17.908210Z",
     "iopub.status.idle": "2022-04-26T16:58:18.819548Z",
     "shell.execute_reply": "2022-04-26T16:58:18.818808Z"
    },
    "papermill": {
     "duration": 0.924783,
     "end_time": "2022-04-26T16:58:18.821930",
     "exception": false,
     "start_time": "2022-04-26T16:58:17.897147",
     "status": "completed"
    },
    "tags": []
   },
   "outputs": [],
   "source": [
    "nlp = spacy.load('en_core_web_sm')\n",
    "#to add to process_tweets(): remove links and possibly hashtags\n",
    "def process_tweets(tweets):\n",
    "    processed_tweets = []\n",
    "    for tweet in tweets.text:\n",
    "        processed_tweet = []\n",
    "        words = nlp(tweet)\n",
    "        for word in words:\n",
    "            word = word.lemma_\n",
    "            word = word.lower()\n",
    "            if word not in stopwords.words('english'):\n",
    "                processed_tweet.append(word)\n",
    "        processed_tweets.append(processed_tweet)\n",
    "    return processed_tweets\n",
    "    \n",
    "def build_freqs(processed_tweets, labels):\n",
    "    freq_dict = dict()\n",
    "    for tweet, label in zip(processed_tweets, labels):\n",
    "        for word in tweet:\n",
    "            if (word, label) in freq_dict:\n",
    "                freq_dict[(word, label)] += 1\n",
    "            else:\n",
    "                freq_dict[(word, label)] = 1\n",
    "    return freq_dict\n",
    "\n",
    "def get_features(freqs, processed_tweet):\n",
    "    bias = 1\n",
    "    disaster = 0\n",
    "    non_disaster = 0\n",
    "    for word in set(processed_tweet): \n",
    "        disaster += freqs.get((word, 1), 0)\n",
    "        non_disaster += freqs.get((word, 0), 0)\n",
    "    return (bias, disaster, non_disaster)"
   ]
  },
  {
   "cell_type": "code",
   "execution_count": 6,
   "id": "65e5a283",
   "metadata": {
    "execution": {
     "iopub.execute_input": "2022-04-26T16:58:18.843462Z",
     "iopub.status.busy": "2022-04-26T16:58:18.842755Z",
     "iopub.status.idle": "2022-04-26T16:59:56.397635Z",
     "shell.execute_reply": "2022-04-26T16:59:56.396968Z"
    },
    "papermill": {
     "duration": 97.569813,
     "end_time": "2022-04-26T16:59:56.401252",
     "exception": false,
     "start_time": "2022-04-26T16:58:18.831439",
     "status": "completed"
    },
    "tags": []
   },
   "outputs": [
    {
     "name": "stderr",
     "output_type": "stream",
     "text": [
      "/opt/conda/lib/python3.7/site-packages/xgboost/sklearn.py:1224: UserWarning: The use of label encoder in XGBClassifier is deprecated and will be removed in a future release. To remove this warning, do the following: 1) Pass option use_label_encoder=False when constructing XGBClassifier object; and 2) Encode your labels (y) as integers starting with 0, i.e. 0, 1, 2, ..., [num_class - 1].\n",
      "  warnings.warn(label_encoder_deprecation_msg, UserWarning)\n"
     ]
    },
    {
     "name": "stdout",
     "output_type": "stream",
     "text": [
      "[16:59:27] WARNING: ../src/learner.cc:1115: Starting in XGBoost 1.3.0, the default evaluation metric used with the objective 'binary:logistic' was changed from 'error' to 'logloss'. Explicitly set eval_metric if you'd like to restore the old behavior.\n",
      "The F1 score was 0.5716417910447761\n"
     ]
    }
   ],
   "source": [
    "# model = LogisticRegression()\n",
    "model = XGBClassifier(random_state=42, n_estimators=350, max_depth=3, learning_rate=0.01, booster='dart')\n",
    "processed_tweets = process_tweets(X_train)\n",
    "freqs = build_freqs(processed_tweets, y_train)\n",
    "features = pd.DataFrame([get_features(freqs, tweet) for tweet in processed_tweets])\n",
    "model.fit(features, y_train)\n",
    "test_processed_tweets = process_tweets(X_test)\n",
    "test_features = pd.DataFrame([get_features(freqs, tweet) for tweet in test_processed_tweets])\n",
    "preds = model.predict(test_features)\n",
    "print('The F1 score was {}'.format(f1_score(preds, y_test))) #0.580043072505384 #0.5900000000000001 switching to stemmer 0.5716417910447761 with spaCy lemmatizer"
   ]
  },
  {
   "cell_type": "code",
   "execution_count": 7,
   "id": "9efe7c05",
   "metadata": {
    "execution": {
     "iopub.execute_input": "2022-04-26T16:59:56.426337Z",
     "iopub.status.busy": "2022-04-26T16:59:56.426042Z",
     "iopub.status.idle": "2022-04-26T17:02:09.967565Z",
     "shell.execute_reply": "2022-04-26T17:02:09.966815Z"
    },
    "papermill": {
     "duration": 133.556054,
     "end_time": "2022-04-26T17:02:09.970278",
     "exception": false,
     "start_time": "2022-04-26T16:59:56.414224",
     "status": "completed"
    },
    "tags": []
   },
   "outputs": [
    {
     "name": "stderr",
     "output_type": "stream",
     "text": [
      "/opt/conda/lib/python3.7/site-packages/xgboost/sklearn.py:1224: UserWarning: The use of label encoder in XGBClassifier is deprecated and will be removed in a future release. To remove this warning, do the following: 1) Pass option use_label_encoder=False when constructing XGBClassifier object; and 2) Encode your labels (y) as integers starting with 0, i.e. 0, 1, 2, ..., [num_class - 1].\n",
      "  warnings.warn(label_encoder_deprecation_msg, UserWarning)\n"
     ]
    },
    {
     "name": "stdout",
     "output_type": "stream",
     "text": [
      "[17:01:23] WARNING: ../src/learner.cc:1115: Starting in XGBoost 1.3.0, the default evaluation metric used with the objective 'binary:logistic' was changed from 'error' to 'logloss'. Explicitly set eval_metric if you'd like to restore the old behavior.\n"
     ]
    }
   ],
   "source": [
    "processed_tweets = process_tweets(X)\n",
    "freqs = build_freqs(processed_tweets, y)\n",
    "features = pd.DataFrame([get_features(freqs, tweet) for tweet in processed_tweets])\n",
    "model.fit(features, y)\n",
    "test = pd.read_csv('../input/nlp-getting-started/test.csv')\n",
    "processed_tweets = process_tweets(test)\n",
    "features = pd.DataFrame([get_features(freqs, tweet) for tweet in processed_tweets])\n",
    "preds = model.predict(features)\n",
    "submission = pd.DataFrame({'id': test.id, 'target': preds})\n",
    "submission.to_csv('submission.csv', index=False)"
   ]
  }
 ],
 "metadata": {
  "kernelspec": {
   "display_name": "Python 3",
   "language": "python",
   "name": "python3"
  },
  "language_info": {
   "codemirror_mode": {
    "name": "ipython",
    "version": 3
   },
   "file_extension": ".py",
   "mimetype": "text/x-python",
   "name": "python",
   "nbconvert_exporter": "python",
   "pygments_lexer": "ipython3",
   "version": "3.7.12"
  },
  "papermill": {
   "default_parameters": {},
   "duration": 256.735718,
   "end_time": "2022-04-26T17:02:12.698955",
   "environment_variables": {},
   "exception": null,
   "input_path": "__notebook__.ipynb",
   "output_path": "__notebook__.ipynb",
   "parameters": {},
   "start_time": "2022-04-26T16:57:55.963237",
   "version": "2.3.4"
  }
 },
 "nbformat": 4,
 "nbformat_minor": 5
}
