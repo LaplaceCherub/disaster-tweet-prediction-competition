{
 "cells": [
  {
   "cell_type": "code",
   "execution_count": 1,
   "id": "6ad4f545",
   "metadata": {
    "_cell_guid": "b1076dfc-b9ad-4769-8c92-a6c4dae69d19",
    "_uuid": "8f2839f25d086af736a60e9eeb907d3b93b6e0e5",
    "execution": {
     "iopub.execute_input": "2022-04-26T03:38:16.685115Z",
     "iopub.status.busy": "2022-04-26T03:38:16.684629Z",
     "iopub.status.idle": "2022-04-26T03:38:18.566732Z",
     "shell.execute_reply": "2022-04-26T03:38:18.565733Z"
    },
    "papermill": {
     "duration": 1.894064,
     "end_time": "2022-04-26T03:38:18.569171",
     "exception": false,
     "start_time": "2022-04-26T03:38:16.675107",
     "status": "completed"
    },
    "tags": []
   },
   "outputs": [
    {
     "name": "stdout",
     "output_type": "stream",
     "text": [
      "/kaggle/input/nlp-getting-started/sample_submission.csv\n",
      "/kaggle/input/nlp-getting-started/train.csv\n",
      "/kaggle/input/nlp-getting-started/test.csv\n"
     ]
    }
   ],
   "source": [
    "import numpy as np\n",
    "import pandas as pd\n",
    "import os\n",
    "import nltk\n",
    "from nltk.corpus import stopwords\n",
    "from nltk.tokenize import word_tokenize\n",
    "from nltk.stem import WordNetLemmatizer\n",
    "from sklearn.linear_model import LogisticRegression\n",
    "from xgboost import XGBClassifier\n",
    "for dirname, _, filenames in os.walk('/kaggle/input'):\n",
    "    for filename in filenames:\n",
    "        print(os.path.join(dirname, filename))"
   ]
  },
  {
   "cell_type": "code",
   "execution_count": 2,
   "id": "b4d2471d",
   "metadata": {
    "execution": {
     "iopub.execute_input": "2022-04-26T03:38:18.586358Z",
     "iopub.status.busy": "2022-04-26T03:38:18.585507Z",
     "iopub.status.idle": "2022-04-26T03:38:18.635246Z",
     "shell.execute_reply": "2022-04-26T03:38:18.634566Z"
    },
    "papermill": {
     "duration": 0.060496,
     "end_time": "2022-04-26T03:38:18.637528",
     "exception": false,
     "start_time": "2022-04-26T03:38:18.577032",
     "status": "completed"
    },
    "tags": []
   },
   "outputs": [],
   "source": [
    "tweet_df = pd.read_csv('../input/nlp-getting-started/train.csv')"
   ]
  },
  {
   "cell_type": "code",
   "execution_count": 3,
   "id": "7d2ea90b",
   "metadata": {
    "execution": {
     "iopub.execute_input": "2022-04-26T03:38:18.654236Z",
     "iopub.status.busy": "2022-04-26T03:38:18.653709Z",
     "iopub.status.idle": "2022-04-26T03:38:18.673700Z",
     "shell.execute_reply": "2022-04-26T03:38:18.672967Z"
    },
    "papermill": {
     "duration": 0.031277,
     "end_time": "2022-04-26T03:38:18.675896",
     "exception": false,
     "start_time": "2022-04-26T03:38:18.644619",
     "status": "completed"
    },
    "tags": []
   },
   "outputs": [
    {
     "data": {
      "text/html": [
       "<div>\n",
       "<style scoped>\n",
       "    .dataframe tbody tr th:only-of-type {\n",
       "        vertical-align: middle;\n",
       "    }\n",
       "\n",
       "    .dataframe tbody tr th {\n",
       "        vertical-align: top;\n",
       "    }\n",
       "\n",
       "    .dataframe thead th {\n",
       "        text-align: right;\n",
       "    }\n",
       "</style>\n",
       "<table border=\"1\" class=\"dataframe\">\n",
       "  <thead>\n",
       "    <tr style=\"text-align: right;\">\n",
       "      <th></th>\n",
       "      <th>id</th>\n",
       "      <th>keyword</th>\n",
       "      <th>location</th>\n",
       "      <th>text</th>\n",
       "      <th>target</th>\n",
       "    </tr>\n",
       "  </thead>\n",
       "  <tbody>\n",
       "    <tr>\n",
       "      <th>0</th>\n",
       "      <td>1</td>\n",
       "      <td>NaN</td>\n",
       "      <td>NaN</td>\n",
       "      <td>Our Deeds are the Reason of this #earthquake M...</td>\n",
       "      <td>1</td>\n",
       "    </tr>\n",
       "    <tr>\n",
       "      <th>1</th>\n",
       "      <td>4</td>\n",
       "      <td>NaN</td>\n",
       "      <td>NaN</td>\n",
       "      <td>Forest fire near La Ronge Sask. Canada</td>\n",
       "      <td>1</td>\n",
       "    </tr>\n",
       "    <tr>\n",
       "      <th>2</th>\n",
       "      <td>5</td>\n",
       "      <td>NaN</td>\n",
       "      <td>NaN</td>\n",
       "      <td>All residents asked to 'shelter in place' are ...</td>\n",
       "      <td>1</td>\n",
       "    </tr>\n",
       "    <tr>\n",
       "      <th>3</th>\n",
       "      <td>6</td>\n",
       "      <td>NaN</td>\n",
       "      <td>NaN</td>\n",
       "      <td>13,000 people receive #wildfires evacuation or...</td>\n",
       "      <td>1</td>\n",
       "    </tr>\n",
       "    <tr>\n",
       "      <th>4</th>\n",
       "      <td>7</td>\n",
       "      <td>NaN</td>\n",
       "      <td>NaN</td>\n",
       "      <td>Just got sent this photo from Ruby #Alaska as ...</td>\n",
       "      <td>1</td>\n",
       "    </tr>\n",
       "  </tbody>\n",
       "</table>\n",
       "</div>"
      ],
      "text/plain": [
       "   id keyword location                                               text  \\\n",
       "0   1     NaN      NaN  Our Deeds are the Reason of this #earthquake M...   \n",
       "1   4     NaN      NaN             Forest fire near La Ronge Sask. Canada   \n",
       "2   5     NaN      NaN  All residents asked to 'shelter in place' are ...   \n",
       "3   6     NaN      NaN  13,000 people receive #wildfires evacuation or...   \n",
       "4   7     NaN      NaN  Just got sent this photo from Ruby #Alaska as ...   \n",
       "\n",
       "   target  \n",
       "0       1  \n",
       "1       1  \n",
       "2       1  \n",
       "3       1  \n",
       "4       1  "
      ]
     },
     "execution_count": 3,
     "metadata": {},
     "output_type": "execute_result"
    }
   ],
   "source": [
    "tweet_df.head()"
   ]
  },
  {
   "cell_type": "code",
   "execution_count": 4,
   "id": "b37f1d31",
   "metadata": {
    "execution": {
     "iopub.execute_input": "2022-04-26T03:38:18.693009Z",
     "iopub.status.busy": "2022-04-26T03:38:18.692275Z",
     "iopub.status.idle": "2022-04-26T03:38:18.707056Z",
     "shell.execute_reply": "2022-04-26T03:38:18.705992Z"
    },
    "papermill": {
     "duration": 0.025937,
     "end_time": "2022-04-26T03:38:18.709362",
     "exception": false,
     "start_time": "2022-04-26T03:38:18.683425",
     "status": "completed"
    },
    "tags": []
   },
   "outputs": [],
   "source": [
    "X, y = tweet_df.drop('target', axis=1), tweet_df.target"
   ]
  },
  {
   "cell_type": "code",
   "execution_count": 5,
   "id": "c2ac3086",
   "metadata": {
    "execution": {
     "iopub.execute_input": "2022-04-26T03:38:18.726183Z",
     "iopub.status.busy": "2022-04-26T03:38:18.725874Z",
     "iopub.status.idle": "2022-04-26T03:38:18.734757Z",
     "shell.execute_reply": "2022-04-26T03:38:18.733929Z"
    },
    "papermill": {
     "duration": 0.020001,
     "end_time": "2022-04-26T03:38:18.737043",
     "exception": false,
     "start_time": "2022-04-26T03:38:18.717042",
     "status": "completed"
    },
    "tags": []
   },
   "outputs": [],
   "source": [
    "def process_tweets(tweets):\n",
    "    lemmatizer = WordNetLemmatizer()\n",
    "    processed_tweets = []\n",
    "    for tweet in tweets.text:\n",
    "        processed_tweet = []\n",
    "        words = word_tokenize(tweet)\n",
    "        for word in words:\n",
    "            word = word.lower()\n",
    "            word = lemmatizer.lemmatize(word)\n",
    "            if word not in stopwords.words('english'):\n",
    "                processed_tweet.append(word)\n",
    "        processed_tweets.append(processed_tweet)\n",
    "    return processed_tweets\n",
    "    \n",
    "def build_freqs(processed_tweets, labels):\n",
    "    freq_dict = dict()\n",
    "    for tweet, label in zip(processed_tweets, labels):\n",
    "        for word in tweet:\n",
    "            if (word, label) in freq_dict:\n",
    "                freq_dict[(word, label)] += 1\n",
    "            else:\n",
    "                freq_dict[(word, label)] = 1\n",
    "    return freq_dict\n",
    "\n",
    "def get_features(freqs, processed_tweet):\n",
    "    bias = 1\n",
    "    disaster = 0\n",
    "    non_disaster = 0\n",
    "    for word in processed_tweet: # maybe make a set to only count each word once\n",
    "        disaster += freqs.get((word, 1), 0)\n",
    "        non_disaster += freqs.get((word, 0), 0)\n",
    "    return (bias, disaster, non_disaster)"
   ]
  },
  {
   "cell_type": "code",
   "execution_count": 6,
   "id": "c27e29ba",
   "metadata": {
    "execution": {
     "iopub.execute_input": "2022-04-26T03:38:18.754190Z",
     "iopub.status.busy": "2022-04-26T03:38:18.753884Z",
     "iopub.status.idle": "2022-04-26T03:38:49.002613Z",
     "shell.execute_reply": "2022-04-26T03:38:49.001575Z"
    },
    "papermill": {
     "duration": 30.267366,
     "end_time": "2022-04-26T03:38:49.012146",
     "exception": false,
     "start_time": "2022-04-26T03:38:18.744780",
     "status": "completed"
    },
    "tags": []
   },
   "outputs": [
    {
     "name": "stderr",
     "output_type": "stream",
     "text": [
      "/opt/conda/lib/python3.7/site-packages/xgboost/sklearn.py:1224: UserWarning: The use of label encoder in XGBClassifier is deprecated and will be removed in a future release. To remove this warning, do the following: 1) Pass option use_label_encoder=False when constructing XGBClassifier object; and 2) Encode your labels (y) as integers starting with 0, i.e. 0, 1, 2, ..., [num_class - 1].\n",
      "  warnings.warn(label_encoder_deprecation_msg, UserWarning)\n"
     ]
    },
    {
     "name": "stdout",
     "output_type": "stream",
     "text": [
      "[03:38:41] WARNING: ../src/learner.cc:1115: Starting in XGBoost 1.3.0, the default evaluation metric used with the objective 'binary:logistic' was changed from 'error' to 'logloss'. Explicitly set eval_metric if you'd like to restore the old behavior.\n"
     ]
    },
    {
     "data": {
      "text/plain": [
       "XGBClassifier(base_score=0.5, booster='dart', colsample_bylevel=1,\n",
       "              colsample_bynode=1, colsample_bytree=1, enable_categorical=False,\n",
       "              gamma=0, gpu_id=-1, importance_type=None,\n",
       "              interaction_constraints='', learning_rate=0.01, max_delta_step=0,\n",
       "              max_depth=3, min_child_weight=1, missing=nan,\n",
       "              monotone_constraints='()', n_estimators=350, n_jobs=4,\n",
       "              num_parallel_tree=1, predictor='auto', random_state=42,\n",
       "              reg_alpha=0, reg_lambda=1, scale_pos_weight=1, subsample=1,\n",
       "              tree_method='exact', validate_parameters=1, verbosity=None)"
      ]
     },
     "execution_count": 6,
     "metadata": {},
     "output_type": "execute_result"
    }
   ],
   "source": [
    "# model = LogisticRegression()\n",
    "model = XGBClassifier(random_state=42, n_estimators=350, max_depth=3, learning_rate=0.01, booster='dart')\n",
    "processed_tweets = process_tweets(X)\n",
    "freqs = build_freqs(processed_tweets, y)\n",
    "features = pd.DataFrame([get_features(freqs, tweet) for tweet in processed_tweets])\n",
    "model.fit(features, y)"
   ]
  },
  {
   "cell_type": "code",
   "execution_count": 7,
   "id": "84f68039",
   "metadata": {
    "execution": {
     "iopub.execute_input": "2022-04-26T03:38:49.029991Z",
     "iopub.status.busy": "2022-04-26T03:38:49.029710Z",
     "iopub.status.idle": "2022-04-26T03:38:57.948691Z",
     "shell.execute_reply": "2022-04-26T03:38:57.947822Z"
    },
    "papermill": {
     "duration": 8.930712,
     "end_time": "2022-04-26T03:38:57.951022",
     "exception": false,
     "start_time": "2022-04-26T03:38:49.020310",
     "status": "completed"
    },
    "tags": []
   },
   "outputs": [],
   "source": [
    "test = pd.read_csv('../input/nlp-getting-started/test.csv')\n",
    "processed_tweets = process_tweets(test)\n",
    "features = pd.DataFrame([get_features(freqs, tweet) for tweet in processed_tweets])\n",
    "preds = model.predict(features)\n",
    "submission = pd.DataFrame({'id': test.id, 'target': preds})\n",
    "submission.to_csv('submission.csv', index=False)"
   ]
  }
 ],
 "metadata": {
  "kernelspec": {
   "display_name": "Python 3",
   "language": "python",
   "name": "python3"
  },
  "language_info": {
   "codemirror_mode": {
    "name": "ipython",
    "version": 3
   },
   "file_extension": ".py",
   "mimetype": "text/x-python",
   "name": "python",
   "nbconvert_exporter": "python",
   "pygments_lexer": "ipython3",
   "version": "3.7.12"
  },
  "papermill": {
   "default_parameters": {},
   "duration": 52.175343,
   "end_time": "2022-04-26T03:38:58.985242",
   "environment_variables": {},
   "exception": null,
   "input_path": "__notebook__.ipynb",
   "output_path": "__notebook__.ipynb",
   "parameters": {},
   "start_time": "2022-04-26T03:38:06.809899",
   "version": "2.3.4"
  }
 },
 "nbformat": 4,
 "nbformat_minor": 5
}
